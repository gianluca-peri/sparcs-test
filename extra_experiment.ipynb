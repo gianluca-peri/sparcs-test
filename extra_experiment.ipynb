{
 "cells": [
  {
   "cell_type": "code",
   "execution_count": 9,
   "metadata": {},
   "outputs": [
    {
     "name": "stdout",
     "output_type": "stream",
     "text": [
      "Using GPU\n"
     ]
    }
   ],
   "source": [
    "import torch\n",
    "import numpy as np\n",
    "from torch import nn\n",
    "from torch.utils.data import Dataset, DataLoader\n",
    "from torch.optim import Adam\n",
    "from tqdm.notebook import tqdm\n",
    "from matplotlib import pyplot as plt\n",
    "\n",
    "from scipy.stats import special_ortho_group\n",
    "\n",
    "# First of all we set a readable font size for the article\n",
    "plt.rcParams.update({'font.size': 16})\n",
    "\n",
    "# Set seed\n",
    "np.random.seed(42)\n",
    "\n",
    "# Set device\n",
    "if torch.cuda.is_available():\n",
    "    device = torch.device('cuda')\n",
    "    print('Using GPU')\n",
    "else:\n",
    "    device = torch.device('cpu')\n",
    "    print('Using CPU')\n",
    "\n",
    "# Constants\n",
    "\n",
    "TEACHER_LAYER_DIM = 20\n",
    "MAX_STUDENT_HIDDEN_DIMS = TEACHER_LAYER_DIM*100\n",
    "\n",
    "TRAIN_SIZE = 100000\n",
    "\n",
    "EPOCHS = 100\n",
    "BATCH_SIZE = 1024\n",
    "LEARNING_RATE = 0.001\n",
    "\n",
    "REG_KIND = 'l2'\n",
    "REG_COEFF = 0.0001\n",
    "INCREMENT = 0 # Regularization increment on the eigenvalues' diagonals\n",
    "\n",
    "TRIMMING_THRESHOLD = float(1e-3)"
   ]
  },
  {
   "cell_type": "code",
   "execution_count": 10,
   "metadata": {},
   "outputs": [],
   "source": [
    "class TeacherNetwork(nn.Module):\n",
    "    def __init__(self, dimension):\n",
    "        super().__init__()\n",
    "        \n",
    "        self.dimension = dimension\n",
    "\n",
    "        # Initialize rotation matrix (input_dimension, number_of_middle_neurons)\n",
    "\n",
    "        rotation_matrix = torch.nn.Parameter(\n",
    "            torch.tensor(special_ortho_group.rvs(dimension), dtype=torch.float32)\n",
    "        )\n",
    "        \n",
    "        # Define linear layers with rotatoion matrix\n",
    "\n",
    "        self.first_transfer = nn.Linear(dimension, dimension, bias=False)\n",
    "        self.first_transfer.weight = torch.nn.Parameter(rotation_matrix)\n",
    "\n",
    "        self.second_transfer = nn.Linear(dimension, dimension, bias=False)\n",
    "        self.second_transfer.weight = torch.nn.Parameter(rotation_matrix)\n",
    "\n",
    "\n",
    "    def forward(self, x):\n",
    "        x = torch.relu(self.first_transfer(x))\n",
    "        x = self.second_transfer(x)\n",
    "        return x\n"
   ]
  },
  {
   "cell_type": "code",
   "execution_count": 11,
   "metadata": {},
   "outputs": [],
   "source": [
    "class Phi3Network(nn.Module):\n",
    "    def __init__(self, input_dimension, output_dimension, max_number_of_hidden_neurons):\n",
    "        super().__init__()\n",
    "    \n",
    "        self.input_dim = input_dimension\n",
    "        self.hidden_dim_1 = max_number_of_hidden_neurons\n",
    "        self.hidden_dim_2 = max_number_of_hidden_neurons\n",
    "        self.output_dim = output_dimension\n",
    "    \n",
    "        self.varphi1 = nn.Parameter(torch.empty(self.hidden_dim_1, self.input_dim), requires_grad=True)\n",
    "        self.varphi2 = nn.Parameter(torch.empty(self.hidden_dim_2, self.hidden_dim_1), requires_grad=True)\n",
    "        self.varphi3 = nn.Parameter(torch.empty(self.output_dim, self.hidden_dim_1), requires_grad=True)\n",
    "    \n",
    "        self.l2_diag = nn.Parameter(torch.empty(self.hidden_dim_1), requires_grad=True)\n",
    "        self.l3_diag = nn.Parameter(torch.empty(self.hidden_dim_2), requires_grad=True)\n",
    "        self.l4_diag = nn.Parameter(torch.empty(self.output_dim), requires_grad=True)\n",
    "    \n",
    "        self.activation = nn.ReLU()\n",
    "    \n",
    "        nn.init.xavier_uniform_(self.varphi1)\n",
    "        nn.init.xavier_uniform_(self.varphi2)\n",
    "        nn.init.xavier_uniform_(self.varphi3)\n",
    "    \n",
    "        with torch.no_grad():\n",
    "            self.l2_diag.fill_(0.)\n",
    "            self.l3_diag.fill_(0.)\n",
    "            self.l4_diag.fill_(1.)\n",
    "    \n",
    "    def count_active_hidden_layers(self, threshold):\n",
    "        active_layers = 0\n",
    "        \n",
    "        for elem in self.l2_diag:\n",
    "            if torch.abs(elem) >= threshold:\n",
    "                active_layers += 1\n",
    "                break\n",
    "\n",
    "        for elem in self.l3_diag:\n",
    "            if torch.abs(elem) >= threshold:\n",
    "                active_layers += 1\n",
    "                break\n",
    "\n",
    "        return active_layers\n",
    "    \n",
    "    def trim_inactive_nodes(self, threshold):\n",
    "        number_of_trimmed_nodes = 0\n",
    "        with torch.no_grad():\n",
    "            for elem in self.l2_diag:\n",
    "                if torch.abs(elem) < threshold:\n",
    "                    elem.fill_(0.)\n",
    "                    number_of_trimmed_nodes += 1\n",
    "            for elem in self.l3_diag:\n",
    "                if torch.abs(elem) < threshold:\n",
    "                    elem.fill_(0.)\n",
    "                    number_of_trimmed_nodes += 1\n",
    "            for elem in self.l4_diag:\n",
    "                if torch.abs(elem) < threshold:\n",
    "                    elem.fill_(0.)\n",
    "                    number_of_trimmed_nodes += 1\n",
    "\n",
    "        return number_of_trimmed_nodes\n",
    "    \n",
    "    def trim_inactive_layers(self, threshold):\n",
    "        trimmed_layers = 0\n",
    "        with torch.no_grad():\n",
    "            if torch.all(torch.abs(self.l2_diag) < threshold):\n",
    "                self.l2_diag.fill_(0.)\n",
    "                trimmed_layers+= 1\n",
    "            if torch.all(torch.abs(self.l3_diag) < threshold):\n",
    "                self.l3_diag.fill_(0.)\n",
    "                trimmed_layers += 1\n",
    "\n",
    "        return trimmed_layers  \n",
    "    \n",
    "    def forward(self, x):\n",
    "        l2 = torch.diag(self.l2_diag)\n",
    "        l3 = torch.diag(self.l3_diag)\n",
    "        l4 = torch.diag(self.l4_diag)\n",
    "    \n",
    "        W_21 = - torch.mm(l2, self.varphi1)\n",
    "        W_32 = torch.mm(self.varphi2, l2) - torch.mm(l3, self.varphi2)\n",
    "        W_43 = torch.mm(self.varphi3, l3) - torch.mm(l4, self.varphi3)\n",
    "        W_31 = torch.mm(\n",
    "            torch.mm(l3, self.varphi2) - torch.mm(self.varphi2, l2),\n",
    "            self.varphi1\n",
    "        )\n",
    "        W_42 = torch.mm(\n",
    "            torch.mm(l4, self.varphi3) - torch.mm(self.varphi3, l3),\n",
    "            self.varphi2\n",
    "        )\n",
    "        W_41 = torch.mm(\n",
    "            torch.mm(\n",
    "                torch.mm(self.varphi3, l3) - torch.mm(l4, self.varphi3),\n",
    "                self.varphi2\n",
    "            ),\n",
    "            self.varphi1\n",
    "        )\n",
    "\n",
    "        y = torch.mm(W_41, x.t()) + \\\n",
    "            torch.mm(W_42, self.activation(torch.mm(W_21, x.t()))) + \\\n",
    "            torch.mm(\n",
    "                W_43, self.activation(torch.mm(W_32, self.activation(torch.mm(W_21, x.t()))) + torch.mm(W_31, x.t()))\n",
    "                )\n",
    "        \n",
    "        return y.t()"
   ]
  },
  {
   "cell_type": "code",
   "execution_count": 12,
   "metadata": {},
   "outputs": [],
   "source": [
    "class MyDataset(Dataset):\n",
    "    def __init__(self, input_vectors, teacher, device):\n",
    "        self.input_vectors = torch.tensor(input_vectors, dtype=torch.float32).to(device)\n",
    "        self.teacher_outputs = teacher(self.input_vectors).detach()\n",
    "\n",
    "    def __len__(self):\n",
    "        return len(self.input_vectors)\n",
    "\n",
    "    def __getitem__(self, idx):\n",
    "        return self.input_vectors[idx], self.teacher_outputs[idx]"
   ]
  },
  {
   "cell_type": "code",
   "execution_count": 13,
   "metadata": {},
   "outputs": [
    {
     "name": "stdout",
     "output_type": "stream",
     "text": [
      "Teacher network:\n",
      "TeacherNetwork(\n",
      "  (first_transfer): Linear(in_features=20, out_features=20, bias=False)\n",
      "  (second_transfer): Linear(in_features=20, out_features=20, bias=False)\n",
      ")\n"
     ]
    }
   ],
   "source": [
    "# Generate teacher network\n",
    "\n",
    "teacher_network = TeacherNetwork(TEACHER_LAYER_DIM).to(device)\n",
    "\n",
    "# Print teacher network\n",
    "\n",
    "print('Teacher network:')\n",
    "print(teacher_network)\n",
    "\n",
    "# Generate random input vectors with entries in [-1,1]\n",
    "\n",
    "train_input_vectors = np.random.rand(TRAIN_SIZE, TEACHER_LAYER_DIM)*2 - 1\n",
    "test_input_vectors = np.random.rand(TRAIN_SIZE, TEACHER_LAYER_DIM)*2 - 1\n",
    "\n",
    "# Generate datasets\n",
    "\n",
    "train_dataset = MyDataset(train_input_vectors, teacher_network, device)\n",
    "test_dataset = MyDataset(test_input_vectors, teacher_network, device)\n",
    "\n",
    "# Generate dataloader\n",
    "\n",
    "train_dataloader = DataLoader(train_dataset, batch_size=BATCH_SIZE, shuffle=True, drop_last=True)\n",
    "test_dataloader = DataLoader(test_dataset, batch_size=BATCH_SIZE, shuffle=False, drop_last=True)"
   ]
  },
  {
   "cell_type": "code",
   "execution_count": 14,
   "metadata": {},
   "outputs": [
    {
     "name": "stdout",
     "output_type": "stream",
     "text": [
      "Student parameters:\n",
      "varphi1 torch.Size([2000, 20])\n",
      "varphi2 torch.Size([2000, 2000])\n",
      "varphi3 torch.Size([20, 2000])\n",
      "l2_diag torch.Size([2000])\n",
      "l3_diag torch.Size([2000])\n",
      "l4_diag torch.Size([20])\n"
     ]
    }
   ],
   "source": [
    "# Generate student network\n",
    "\n",
    "student_network = Phi3Network(\n",
    "    input_dimension=TEACHER_LAYER_DIM,\n",
    "    output_dimension=TEACHER_LAYER_DIM,\n",
    "    max_number_of_hidden_neurons=MAX_STUDENT_HIDDEN_DIMS\n",
    ").to(device)\n",
    "\n",
    "# Print student parameters\n",
    "\n",
    "print('Student parameters:')\n",
    "for name, param in student_network.named_parameters():\n",
    "    print(name, param.shape)"
   ]
  },
  {
   "cell_type": "code",
   "execution_count": 15,
   "metadata": {},
   "outputs": [
    {
     "name": "stdout",
     "output_type": "stream",
     "text": [
      "Training with L2 regularization, and increment 0\n"
     ]
    },
    {
     "data": {
      "application/vnd.jupyter.widget-view+json": {
       "model_id": "34dd89adcab94575971acc2914a9ca44",
       "version_major": 2,
       "version_minor": 0
      },
      "text/plain": [
       "  0%|          | 0/100 [00:00<?, ?it/s]"
      ]
     },
     "metadata": {},
     "output_type": "display_data"
    }
   ],
   "source": [
    "# Define optimizer\n",
    "optimizer = Adam(student_network.parameters(), lr=LEARNING_RATE)\n",
    "# Define criterion\n",
    "criterion = nn.MSELoss()\n",
    "\n",
    "if REG_KIND == None:\n",
    "    print('Training without regularization')\n",
    "elif REG_KIND == 'l2':\n",
    "    print('Training with L2 regularization, and increment', INCREMENT)\n",
    "elif REG_KIND == 'l1':\n",
    "    print('Training with L1 regularization, and increment', INCREMENT)\n",
    "else:\n",
    "    raise ValueError('Unknown regularization kind')\n",
    "\n",
    "total_losses = []\n",
    "total_losses_with_reg = []\n",
    "\n",
    "# Train student network\n",
    "for epoch in tqdm(range(EPOCHS)):\n",
    "    total_loss = 0\n",
    "    total_loss_with_reg = 0\n",
    "    for x_batch, y_batch in train_dataloader:\n",
    "        optimizer.zero_grad()\n",
    "        y_pred = student_network(x_batch)\n",
    "        loss = criterion(y_pred, y_batch)\n",
    "        total_loss += loss.item()\n",
    "        \n",
    "        if REG_KIND == None:\n",
    "            pass\n",
    "        elif REG_KIND == 'l2':\n",
    "            loss += (1+INCREMENT)*REG_COEFF * torch.norm(student_network.l2_diag, p=2) + \\\n",
    "                    REG_COEFF * torch.norm(student_network.l3_diag, p=2)\n",
    "        else:\n",
    "            loss += (1+INCREMENT)*REG_COEFF * torch.norm(student_network.l2_diag, p=1) + \\\n",
    "                    REG_COEFF * torch.norm(student_network.l3_diag, p=1)\n",
    "        \n",
    "        total_loss_with_reg += loss.item()\n",
    "        loss.backward()\n",
    "        optimizer.step()\n",
    "\n",
    "    total_losses.append(total_loss)\n",
    "    total_losses_with_reg.append(total_loss_with_reg)"
   ]
  },
  {
   "cell_type": "code",
   "execution_count": 16,
   "metadata": {},
   "outputs": [
    {
     "data": {
      "image/png": "[encoded data removed]",
      "text/plain": [
       "<Figure size 1000x600 with 1 Axes>"
      ]
     },
     "metadata": {},
     "output_type": "display_data"
    }
   ],
   "source": [
    "# Make loss plot\n",
    "\n",
    "plt.figure(figsize=(10, 6))\n",
    "\n",
    "mean_total_losses = [total_loss/TRAIN_SIZE for total_loss in total_losses]\n",
    "mean_total_losses_with_reg = [total_loss/TRAIN_SIZE for total_loss in total_losses_with_reg]\n",
    "\n",
    "plt.plot(mean_total_losses, label='Loss')\n",
    "plt.plot(mean_total_losses_with_reg, label='Loss with regularization')\n",
    "\n",
    "plt.axhline(y=0, color='black', linestyle='--')\n",
    "\n",
    "plt.xlabel('Epoch')\n",
    "\n",
    "plt.ylabel('Loss')\n",
    "\n",
    "plt.legend()\n",
    "\n",
    "plt.show()"
   ]
  },
  {
   "cell_type": "code",
   "execution_count": 17,
   "metadata": {},
   "outputs": [
    {
     "name": "stdout",
     "output_type": "stream",
     "text": [
      "Number of active layers: 1\n"
     ]
    }
   ],
   "source": [
    "# Get number of active layers of the student\n",
    "\n",
    "active_layers = student_network.count_active_hidden_layers(TRIMMING_THRESHOLD)\n",
    "print('Number of active layers:', active_layers)"
   ]
  },
  {
   "cell_type": "code",
   "execution_count": 18,
   "metadata": {},
   "outputs": [
    {
     "name": "stdout",
     "output_type": "stream",
     "text": [
      "Eigenvalues of the student:\n",
      "\n",
      "l1 is set to always be 0\n",
      "\n",
      "l2 (max value: 0.000201955292141065):\n",
      "Parameter containing:\n",
      "tensor([-7.1211e-05, -6.4976e-05,  2.5834e-05,  ...,  6.4773e-06,\n",
      "         3.7298e-05,  5.1667e-05], device='cuda:0', requires_grad=True) \n",
      "\n",
      "l3 (max value: 0.0074849859811365604):\n",
      "Parameter containing:\n",
      "tensor([ 9.8542e-05,  7.5956e-06, -4.3777e-02,  ...,  2.1731e-07,\n",
      "        -6.9121e-08,  1.1341e-03], device='cuda:0', requires_grad=True) \n",
      "\n",
      "l4 (max value: 0.9129213690757751):\n",
      "Parameter containing:\n",
      "tensor([0.8896, 0.8819, 0.8789, 0.8789, 0.8760, 0.8969, 0.8927, 0.8949, 0.8908,\n",
      "        0.8879, 0.8825, 0.8921, 0.8759, 0.8973, 0.8800, 0.8874, 0.9129, 0.9007,\n",
      "        0.8873, 0.8979], device='cuda:0', requires_grad=True) \n",
      "\n"
     ]
    }
   ],
   "source": [
    "# Print the eigenvalues of the student\n",
    "\n",
    "print('Eigenvalues of the student:\\n')\n",
    "print(f'l1 is set to always be 0\\n')\n",
    "print(f'l2 (max value: {torch.max(student_network.l2_diag).item()}):')\n",
    "print(student_network.l2_diag, '\\n')\n",
    "print(f'l3 (max value: {torch.max(student_network.l3_diag).item()}):')\n",
    "print(student_network.l3_diag, '\\n')\n",
    "print(f'l4 (max value: {torch.max(student_network.l4_diag).item()}):')\n",
    "print(student_network.l4_diag, '\\n')"
   ]
  },
  {
   "cell_type": "code",
   "execution_count": 19,
   "metadata": {},
   "outputs": [
    {
     "name": "stdout",
     "output_type": "stream",
     "text": [
      "Mean test loss before trimming: 7.880991382990032e-08\n",
      "Mean test loss after trimming: 7.88583024404943e-08\n",
      "Percent increase in test loss after trimming: 0.06139914160852416 %\n",
      "Percent of trimmed nodes: 92.53731343283582 %\n"
     ]
    }
   ],
   "source": [
    "# Test the student network before trimming\n",
    "\n",
    "student_network.eval()\n",
    "with torch.no_grad():\n",
    "    test_loss = 0\n",
    "    for x_batch, y_batch in test_dataloader:\n",
    "        y_pred = student_network(x_batch)\n",
    "        loss = criterion(y_pred, y_batch)\n",
    "        test_loss += loss.item()\n",
    "    mean_test_loss_before_trimming = test_loss/TRAIN_SIZE\n",
    "    print('Mean test loss before trimming:', mean_test_loss_before_trimming)\n",
    "\n",
    "# Trim the student network and test again\n",
    "\n",
    "number_of_trimmed_nodes = student_network.trim_inactive_nodes(TRIMMING_THRESHOLD)\n",
    "\n",
    "with torch.no_grad():\n",
    "    test_loss = 0\n",
    "    for x_batch, y_batch in test_dataloader:\n",
    "        y_pred = student_network(x_batch)\n",
    "        loss = criterion(y_pred, y_batch)\n",
    "        test_loss += loss.item()\n",
    "    mean_test_loss_after_trimming = test_loss/TRAIN_SIZE\n",
    "    print('Mean test loss after trimming:', mean_test_loss_after_trimming)\n",
    "\n",
    "# Get percent increse in test loss after trimming\n",
    "\n",
    "percent_increase = ((mean_test_loss_after_trimming - mean_test_loss_before_trimming)/mean_test_loss_before_trimming)*100\n",
    "print('Percent increase in test loss after trimming:', percent_increase, '%')\n",
    "\n",
    "# Get percent of trimmed nodes\n",
    "\n",
    "total_number_of_trimmable_eigenvalues = TEACHER_LAYER_DIM + MAX_STUDENT_HIDDEN_DIMS*2\n",
    "percent_of_trimmed_nodes = (number_of_trimmed_nodes/total_number_of_trimmable_eigenvalues)*100\n",
    "print('Percent of trimmed nodes:', percent_of_trimmed_nodes, '%')"
   ]
  },
  {
   "cell_type": "code",
   "execution_count": 20,
   "metadata": {},
   "outputs": [
    {
     "name": "stdout",
     "output_type": "stream",
     "text": [
      "Mean test loss after whole layers trimming: 7.88583024404943e-08\n",
      "Percent increase in test loss after whole layers trimming: 0.06139914160852416 %\n",
      "Number of trimmed layers: 1\n"
     ]
    }
   ],
   "source": [
    "# Trim the whole layers and test again\n",
    "\n",
    "number_of_trimmed_layers = student_network.trim_inactive_layers(TRIMMING_THRESHOLD)\n",
    "\n",
    "with torch.no_grad():\n",
    "    test_loss = 0\n",
    "    for x_batch, y_batch in test_dataloader:\n",
    "        y_pred = student_network(x_batch)\n",
    "        loss = criterion(y_pred, y_batch)\n",
    "        test_loss += loss.item()\n",
    "    mean_test_loss_after_whole_layers_trimming = test_loss/TRAIN_SIZE\n",
    "    print('Mean test loss after whole layers trimming:', mean_test_loss_after_whole_layers_trimming)\n",
    "\n",
    "# Get percent increse in test loss after whole layers trimming\n",
    "\n",
    "percent_increase = ((mean_test_loss_after_whole_layers_trimming - mean_test_loss_before_trimming)/mean_test_loss_before_trimming)*100\n",
    "print('Percent increase in test loss after whole layers trimming:', percent_increase, '%')\n",
    "\n",
    "# Print number of trimmed layers\n",
    "\n",
    "print('Number of trimmed layers:', number_of_trimmed_layers)"
   ]
  }
 ],
 "metadata": {
  "kernelspec": {
   "display_name": "sparcs",
   "language": "python",
   "name": "python3"
  },
  "language_info": {
   "codemirror_mode": {
    "name": "ipython",
    "version": 3
   },
   "file_extension": ".py",
   "mimetype": "text/x-python",
   "name": "python",
   "nbconvert_exporter": "python",
   "pygments_lexer": "ipython3",
   "version": "3.12.0"
  }
 },
 "nbformat": 4,
 "nbformat_minor": 2
}
